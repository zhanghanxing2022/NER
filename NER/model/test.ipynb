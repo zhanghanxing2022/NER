{
 "cells": [
  {
   "cell_type": "code",
   "execution_count": 166,
   "metadata": {},
   "outputs": [],
   "source": [
    "import ChainCRF\n",
    "import importlib\n",
    "importlib.reload(ChainCRF)\n",
    "from ChainCRF import ChainCRF\n",
    "import torch\n",
    "import torch.nn as nn\n",
    "import torch.nn.functional as F"
   ]
  },
  {
   "cell_type": "code",
   "execution_count": 167,
   "metadata": {},
   "outputs": [
    {
     "name": "stdout",
     "output_type": "stream",
     "text": [
      "score: tensor([[[ 0.0000,  1.5000,  3.0000],\n",
      "         [ 4.5000, 13.0000,  7.5000],\n",
      "         [15.5000, 16.5000, 16.0000],\n",
      "         [19.5000, 26.0000, 20.5000]]], grad_fn=<CopySlices>)\n",
      "path: tensor([[[0, 0, 0],\n",
      "         [2, 2, 1],\n",
      "         [1, 2, 1],\n",
      "         [1, 2, 1]]])\n",
      "tensor([[2, 1, 2, 0]])\n",
      "score: tensor([[[ 0.0000,  1.5000,  3.0000],\n",
      "         [ 4.5000, 13.0000,  7.5000],\n",
      "         [15.5000, 16.5000, 16.0000],\n",
      "         [19.5000, 26.0000, 20.5000]]], grad_fn=<CopySlices>)\n",
      "path: tensor([[[0, 0, 0],\n",
      "         [2, 2, 1],\n",
      "         [1, 2, 1],\n",
      "         [1, 2, 1]]])\n",
      "tensor([[2, 1, 2, 0]])\n"
     ]
    }
   ],
   "source": [
    "batch_size = 1\n",
    "seq_len = 4\n",
    "num_class = 3\n",
    "# 预定义的列表\n",
    "init_Trans = [[1, 0, 2],\n",
    "              [2, 0, 3],\n",
    "              [1, 9, 0]]\n",
    "my_crf = ChainCRF(num_class, init_Trans)\n",
    "my_crf = ChainCRF(num_class)\n",
    "\n",
    "init_emission = [[[0.0, 1.5, 3.0],\n",
    "                  [0.5, 1.0, 3.0],\n",
    "                  [0.5, 0.0, 0.0],\n",
    "                  [1.0, 1.0, 1.0],]]\n",
    "init_emission = torch.rand((batch_size,seq_len,num_class))\n",
    "# 使用列表初始化1 4 3\n",
    "emissions = torch.tensor(init_emission)\n",
    "# 1 4\n",
    "init_tags = [[2, 1, 2, 1]]\n",
    "true_tags = torch.Tensor(init_tags)\n",
    "\n",
    "init_masks = [[1, 1, 1, 0]]\n",
    "mask = torch.Tensor(init_masks)\n",
    "\n",
    "print(my_crf.viterbi_decode(emissions, mask))\n",
    "print(my_crf.viterbi_decode2(emissions, mask))\n",
    "# tensor([[2, 1, 2, 0]])\n"
   ]
  },
  {
   "cell_type": "code",
   "execution_count": 168,
   "metadata": {},
   "outputs": [
    {
     "data": {
      "text/plain": [
       "tensor(7.1004, grad_fn=<MeanBackward0>)"
      ]
     },
     "execution_count": 168,
     "metadata": {},
     "output_type": "execute_result"
    }
   ],
   "source": [
    "my_crf(emissions,true_tags.long(),mask)"
   ]
  }
 ],
 "metadata": {
  "kernelspec": {
   "display_name": "Python 3",
   "language": "python",
   "name": "python3"
  },
  "language_info": {
   "codemirror_mode": {
    "name": "ipython",
    "version": 3
   },
   "file_extension": ".py",
   "mimetype": "text/x-python",
   "name": "python",
   "nbconvert_exporter": "python",
   "pygments_lexer": "ipython3",
   "version": "3.10.5"
  },
  "orig_nbformat": 4
 },
 "nbformat": 4,
 "nbformat_minor": 2
}
