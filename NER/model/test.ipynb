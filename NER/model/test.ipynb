{
 "cells": [
  {
   "cell_type": "code",
   "execution_count": 268,
   "metadata": {},
   "outputs": [],
   "source": [
    "import ChainCRF\n",
    "import importlib\n",
    "importlib.reload(ChainCRF)\n",
    "from ChainCRF import ChainCRF\n",
    "import torch\n",
    "import torch.nn as nn\n",
    "import torch.nn.functional as F\n",
    "import torch\n",
    "import torch.nn as nn\n",
    "import torch.nn.functional as F\n",
    "\n"
   ]
  },
  {
   "cell_type": "code",
   "execution_count": 269,
   "metadata": {},
   "outputs": [
    {
     "name": "stdout",
     "output_type": "stream",
     "text": [
      "tensor([[2, 1, 2, 0]])\n",
      "tensor([[2, 1, 2, 0]])\n"
     ]
    }
   ],
   "source": [
    "batch_size = 1\n",
    "seq_len = 4\n",
    "num_class = 3\n",
    "# 预定义的列表\n",
    "init_Trans = [[1, 0, 2],\n",
    "              [2, 0, 3],\n",
    "              [1, 9, 0]]\n",
    "my_crf = ChainCRF(num_class, init_Trans)\n",
    "# my_crf = ChainCRF(num_class)\n",
    "\n",
    "init_emission = [[[0.0, 1.5, 3.0],\n",
    "                  [0.5, 1.0, 3.0],\n",
    "                  [0.5, 0.0, 0.0],\n",
    "                  [1.0, 1.0, 1.0],]]\n",
    "# init_emission = torch.rand((batch_size,seq_len,num_class))\n",
    "# 使用列表初始化1 4 3\n",
    "emissions = torch.tensor(init_emission)\n",
    "# 1 4\n",
    "init_tags = [[2, 1, 2, 1]]\n",
    "true_tags = torch.Tensor(init_tags)\n",
    "\n",
    "init_masks = [[1, 1, 1, 0]]\n",
    "mask = torch.Tensor(init_masks)\n",
    "\n",
    "print(my_crf.viterbi_decode(emissions, mask))\n",
    "print(my_crf.viterbi_decode2(emissions, mask))\n",
    "# tensor([[2, 1, 2, 0]])\n"
   ]
  },
  {
   "cell_type": "code",
   "execution_count": 270,
   "metadata": {},
   "outputs": [
    {
     "data": {
      "text/plain": [
       "tensor(2.4362, grad_fn=<MeanBackward0>)"
      ]
     },
     "execution_count": 270,
     "metadata": {},
     "output_type": "execute_result"
    }
   ],
   "source": [
    "my_crf(emissions,true_tags.long(),mask)"
   ]
  }
 ],
 "metadata": {
  "kernelspec": {
   "display_name": "Python 3",
   "language": "python",
   "name": "python3"
  },
  "language_info": {
   "codemirror_mode": {
    "name": "ipython",
    "version": 3
   },
   "file_extension": ".py",
   "mimetype": "text/x-python",
   "name": "python",
   "nbconvert_exporter": "python",
   "pygments_lexer": "ipython3",
   "version": "3.10.5"
  },
  "orig_nbformat": 4
 },
 "nbformat": 4,
 "nbformat_minor": 2
}
